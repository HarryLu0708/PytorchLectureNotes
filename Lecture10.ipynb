{
  "nbformat": 4,
  "nbformat_minor": 0,
  "metadata": {
    "colab": {
      "provenance": [],
      "gpuType": "T4"
    },
    "kernelspec": {
      "name": "python3",
      "display_name": "Python 3"
    },
    "language_info": {
      "name": "python"
    },
    "accelerator": "GPU"
  },
  "cells": [
    {
      "cell_type": "markdown",
      "source": [
        "# Lecture 10\n",
        "## Convolutional Neural Network"
      ],
      "metadata": {
        "id": "Lv00PvN96tnO"
      }
    },
    {
      "cell_type": "markdown",
      "source": [
        "### Concolutional Layer"
      ],
      "metadata": {
        "id": "KGtZFtxe7cTb"
      }
    },
    {
      "cell_type": "code",
      "source": [
        "import torch"
      ],
      "metadata": {
        "id": "wuWeoTrI6mav"
      },
      "execution_count": null,
      "outputs": []
    },
    {
      "cell_type": "code",
      "execution_count": null,
      "metadata": {
        "id": "W7HkCY3f6kUm"
      },
      "outputs": [],
      "source": [
        "in_channels, out_channels = 5,10\n",
        "width, height = 100, 100\n",
        "kernel_size = 3\n",
        "batch_size = 1"
      ]
    },
    {
      "cell_type": "code",
      "source": [
        "input = torch.randn(batch_size,in_channels,width,height)\n",
        "conv_layer = torch.nn.Conv2d(in_channels,out_channels,kernel_size=kernel_size)\n",
        "output = conv_layer(input)\n",
        "\n",
        "print(input.shape)\n",
        "print(output.shape)\n",
        "print(conv_layer.weight.shape)"
      ],
      "metadata": {
        "colab": {
          "base_uri": "https://localhost:8080/"
        },
        "id": "8tntOnEI7vCH",
        "outputId": "f4754ee6-db1c-4ff7-d530-41f0c80cdaa9"
      },
      "execution_count": null,
      "outputs": [
        {
          "output_type": "stream",
          "name": "stdout",
          "text": [
            "torch.Size([1, 5, 100, 100])\n",
            "torch.Size([1, 10, 98, 98])\n",
            "torch.Size([10, 5, 3, 3])\n"
          ]
        }
      ]
    },
    {
      "cell_type": "markdown",
      "source": [
        "### Padding & Strding"
      ],
      "metadata": {
        "id": "5Lxl0ybd8vUs"
      }
    },
    {
      "cell_type": "code",
      "source": [
        "input = [3,4,5,6,7,\n",
        "         2,4,6,8,2,\n",
        "         1,6,7,8,4,\n",
        "         9,7,4,6,2,\n",
        "         3,7,5,4,1]\n",
        "input = torch.Tensor(input).view(1,1,5,5)\n",
        "conv_layer = torch.nn.Conv2d(1,1,kernel_size=3,stride=2,bias=False)\n",
        "kernel = torch.Tensor([1,2,3,4,5,6,7,8,9]).view(1,1,3,3)\n",
        "conv_layer.weight.data = kernel.data\n",
        "output = conv_layer(input)\n",
        "print(output)"
      ],
      "metadata": {
        "colab": {
          "base_uri": "https://localhost:8080/"
        },
        "id": "rgLsJE9H8NH8",
        "outputId": "7454da55-bf89-49de-a049-cbb8dd10ef86"
      },
      "execution_count": null,
      "outputs": [
        {
          "output_type": "stream",
          "name": "stdout",
          "text": [
            "tensor([[[[208., 263.],\n",
            "          [251., 169.]]]], grad_fn=<ConvolutionBackward0>)\n"
          ]
        }
      ]
    },
    {
      "cell_type": "code",
      "source": [
        "input = [3,4,6,5,\n",
        "         2,4,6,8,\n",
        "         1,6,7,8,\n",
        "         9,7,4,6\n",
        "         ]\n",
        "input = torch.Tensor(input).view(1,1,4,4)\n",
        "maxpooling_layer = torch.nn.MaxPool2d(kernel_size=2)\n",
        "output = maxpooling_layer(input)\n",
        "print(output)"
      ],
      "metadata": {
        "colab": {
          "base_uri": "https://localhost:8080/"
        },
        "id": "BYLrXTgJ9mQG",
        "outputId": "849becd5-1023-428d-c548-98cd972551f2"
      },
      "execution_count": null,
      "outputs": [
        {
          "output_type": "stream",
          "name": "stdout",
          "text": [
            "tensor([[[[4., 8.],\n",
            "          [9., 8.]]]])\n"
          ]
        }
      ]
    },
    {
      "cell_type": "markdown",
      "source": [
        "## Convolutional Neural Network Implementations"
      ],
      "metadata": {
        "id": "7ecxffC2-T02"
      }
    },
    {
      "cell_type": "code",
      "source": [
        "class NNet(torch.nn.Module):\n",
        "  def __init__(self):\n",
        "    super(NNet,self).__init__()\n",
        "    self.conv1 = torch.nn.Conv2d(1,10,kernel_size=5)\n",
        "    self.conv2 = torch.nn.Conv2d(10,20,kernel_size=5)\n",
        "    self.l1 = torch.nn.Linear(320,10)\n",
        "    self.activation = torch.nn.ReLU()\n",
        "    self.pooling = torch.nn.MaxPool2d(2)\n",
        "\n",
        "  def forward(self,x):\n",
        "    batch_size = x.size(0)\n",
        "    y_pred = self.pooling(self.activation(self.conv1(x)))\n",
        "    y_pred = self.pooling(self.activation(self.conv2(y_pred)))\n",
        "    y_pred = y_pred.view(batch_size,-1)\n",
        "    y_pred = self.l1(y_pred)\n",
        "    return y_pred"
      ],
      "metadata": {
        "id": "FS2Ychz2-NE-"
      },
      "execution_count": null,
      "outputs": []
    },
    {
      "cell_type": "code",
      "source": [
        "class NNet2(torch.nn.Module):\n",
        "  def __init__(self):\n",
        "    super(NNet2,self).__init__()\n",
        "    self.conv1 = torch.nn.Conv2d(1,10,kernel_size=5)\n",
        "    self.conv2 = torch.nn.Conv2d(10,20,kernel_size=5)\n",
        "    self.l1 = torch.nn.Linear(320,10)\n",
        "    self.activation = torch.nn.ReLU()\n",
        "    self.pooling = torch.nn.MaxPool2d(2)\n",
        "\n",
        "  def forward(self,x):\n",
        "    batch_size = x.size(0)\n",
        "    y_pred = self.pooling(self.activation(self.conv1(x)))\n",
        "    y_pred = self.pooling(self.activation(self.conv2(y_pred)))\n",
        "    y_pred = y_pred.view(batch_size,-1)\n",
        "    y_pred = self.l1(y_pred)\n",
        "    return y_pred"
      ],
      "metadata": {
        "id": "t98QHoO7FSx9"
      },
      "execution_count": null,
      "outputs": []
    },
    {
      "cell_type": "code",
      "source": [
        "model = NNet()\n",
        "device = torch.device(\"cuda:0\" if torch.cuda.is_available() else \"cpu\")"
      ],
      "metadata": {
        "id": "fElw2ZPlA4c8"
      },
      "execution_count": null,
      "outputs": []
    },
    {
      "cell_type": "code",
      "source": [
        "print(device)"
      ],
      "metadata": {
        "colab": {
          "base_uri": "https://localhost:8080/"
        },
        "id": "QpOLV0nOBSWW",
        "outputId": "47fd2f7a-2305-4ada-8ff2-639ced5df549"
      },
      "execution_count": null,
      "outputs": [
        {
          "output_type": "stream",
          "name": "stdout",
          "text": [
            "cuda:0\n"
          ]
        }
      ]
    },
    {
      "cell_type": "code",
      "source": [
        "model.to(device)"
      ],
      "metadata": {
        "colab": {
          "base_uri": "https://localhost:8080/"
        },
        "id": "yp8UpDRJBYoY",
        "outputId": "f4b10008-a75b-4ddb-ddc8-41913c242bdc"
      },
      "execution_count": null,
      "outputs": [
        {
          "output_type": "execute_result",
          "data": {
            "text/plain": [
              "NNet(\n",
              "  (conv1): Conv2d(1, 10, kernel_size=(5, 5), stride=(1, 1))\n",
              "  (conv2): Conv2d(10, 20, kernel_size=(5, 5), stride=(1, 1))\n",
              "  (l1): Linear(in_features=320, out_features=10, bias=True)\n",
              "  (activation): ReLU()\n",
              "  (pooling): MaxPool2d(kernel_size=2, stride=2, padding=0, dilation=1, ceil_mode=False)\n",
              ")"
            ]
          },
          "metadata": {},
          "execution_count": 9
        }
      ]
    },
    {
      "cell_type": "code",
      "source": [
        "import numpy as np\n",
        "from torchvision import datasets\n",
        "from torchvision import transforms\n",
        "from torch.utils.data import Dataset, DataLoader"
      ],
      "metadata": {
        "id": "Y_SF_bHJBb89"
      },
      "execution_count": null,
      "outputs": []
    },
    {
      "cell_type": "code",
      "source": [
        "batch_size = 64\n",
        "transform = transforms.Compose([\n",
        "    transforms.ToTensor(),\n",
        "    transforms.Normalize((0.1307,),(0.3081,))\n",
        "])"
      ],
      "metadata": {
        "id": "-pltz6ctCFTI"
      },
      "execution_count": null,
      "outputs": []
    },
    {
      "cell_type": "code",
      "source": [
        "train_dataset = datasets.MNIST(\n",
        "    root=\"../\",\n",
        "    train=True,\n",
        "    download=True,\n",
        "    transform=transform\n",
        ")\n",
        "\n",
        "train_loader = DataLoader(\n",
        "    train_dataset,\n",
        "    shuffle=True,\n",
        "    batch_size=batch_size\n",
        ")\n",
        "\n",
        "test_dataset = datasets.MNIST(\n",
        "    root=\"../\",\n",
        "    train=False,\n",
        "    download=True,\n",
        "    transform=transform\n",
        ")\n",
        "\n",
        "test_loader = DataLoader(\n",
        "    test_dataset,\n",
        "    shuffle=False,\n",
        "    batch_size=batch_size\n",
        ")"
      ],
      "metadata": {
        "colab": {
          "base_uri": "https://localhost:8080/"
        },
        "id": "r1zgOt5wCHSc",
        "outputId": "a6b08f59-087e-4b99-b440-71f0b49473f1"
      },
      "execution_count": null,
      "outputs": [
        {
          "output_type": "stream",
          "name": "stdout",
          "text": [
            "Downloading http://yann.lecun.com/exdb/mnist/train-images-idx3-ubyte.gz\n",
            "Downloading http://yann.lecun.com/exdb/mnist/train-images-idx3-ubyte.gz to ../MNIST/raw/train-images-idx3-ubyte.gz\n"
          ]
        },
        {
          "output_type": "stream",
          "name": "stderr",
          "text": [
            "100%|██████████| 9912422/9912422 [00:00<00:00, 171248501.71it/s]"
          ]
        },
        {
          "output_type": "stream",
          "name": "stdout",
          "text": [
            "Extracting ../MNIST/raw/train-images-idx3-ubyte.gz to ../MNIST/raw\n"
          ]
        },
        {
          "output_type": "stream",
          "name": "stderr",
          "text": [
            "\n"
          ]
        },
        {
          "output_type": "stream",
          "name": "stdout",
          "text": [
            "\n",
            "Downloading http://yann.lecun.com/exdb/mnist/train-labels-idx1-ubyte.gz\n",
            "Downloading http://yann.lecun.com/exdb/mnist/train-labels-idx1-ubyte.gz to ../MNIST/raw/train-labels-idx1-ubyte.gz\n"
          ]
        },
        {
          "output_type": "stream",
          "name": "stderr",
          "text": [
            "100%|██████████| 28881/28881 [00:00<00:00, 96753749.06it/s]\n"
          ]
        },
        {
          "output_type": "stream",
          "name": "stdout",
          "text": [
            "Extracting ../MNIST/raw/train-labels-idx1-ubyte.gz to ../MNIST/raw\n",
            "\n",
            "Downloading http://yann.lecun.com/exdb/mnist/t10k-images-idx3-ubyte.gz\n",
            "Downloading http://yann.lecun.com/exdb/mnist/t10k-images-idx3-ubyte.gz to ../MNIST/raw/t10k-images-idx3-ubyte.gz\n"
          ]
        },
        {
          "output_type": "stream",
          "name": "stderr",
          "text": [
            "100%|██████████| 1648877/1648877 [00:00<00:00, 92381867.93it/s]"
          ]
        },
        {
          "output_type": "stream",
          "name": "stdout",
          "text": [
            "Extracting ../MNIST/raw/t10k-images-idx3-ubyte.gz to ../MNIST/raw\n",
            "\n",
            "Downloading http://yann.lecun.com/exdb/mnist/t10k-labels-idx1-ubyte.gz\n"
          ]
        },
        {
          "output_type": "stream",
          "name": "stderr",
          "text": [
            "\n"
          ]
        },
        {
          "output_type": "stream",
          "name": "stdout",
          "text": [
            "Downloading http://yann.lecun.com/exdb/mnist/t10k-labels-idx1-ubyte.gz to ../MNIST/raw/t10k-labels-idx1-ubyte.gz\n"
          ]
        },
        {
          "output_type": "stream",
          "name": "stderr",
          "text": [
            "100%|██████████| 4542/4542 [00:00<00:00, 22760488.37it/s]\n"
          ]
        },
        {
          "output_type": "stream",
          "name": "stdout",
          "text": [
            "Extracting ../MNIST/raw/t10k-labels-idx1-ubyte.gz to ../MNIST/raw\n",
            "\n"
          ]
        }
      ]
    },
    {
      "cell_type": "code",
      "source": [
        "criterion = torch.nn.CrossEntropyLoss()\n",
        "optimizer = torch.optim.SGD(model.parameters(),lr=0.01)"
      ],
      "metadata": {
        "id": "wX9uUz0ACKVj"
      },
      "execution_count": null,
      "outputs": []
    },
    {
      "cell_type": "code",
      "source": [
        "def train(epoch):\n",
        "  running_loss = 0.0\n",
        "  for batch_idx,data in enumerate(train_loader,0):\n",
        "    inputs,target = data\n",
        "    inputs, target = inputs.to(device), target.to(device)\n",
        "    optimizer.zero_grad()\n",
        "    outputs = model(inputs)\n",
        "    loss = criterion(outputs,target)\n",
        "    loss.backward()\n",
        "    optimizer.step()\n",
        "    running_loss += loss.item()\n",
        "    if batch_idx%100==299:\n",
        "      print(epoch,batch_idx,running_loss/300)\n",
        "      running_loss=0.0"
      ],
      "metadata": {
        "id": "0ae57LVjCoAM"
      },
      "execution_count": null,
      "outputs": []
    },
    {
      "cell_type": "code",
      "source": [
        "def test():\n",
        "  correct = 0\n",
        "  total = 0\n",
        "  with torch.no_grad():\n",
        "    for data in train_loader:\n",
        "      images,labels = data\n",
        "      images,labels = images.to(device), labels.to(device)\n",
        "      outputs = model(images)\n",
        "      _,pred = torch.max(outputs.data,dim=1)\n",
        "      total += labels.size(0)\n",
        "      correct += (pred==labels).sum().item()\n",
        "  print(\"Accuracy Rate:\",(100*correct/total),\"%\")"
      ],
      "metadata": {
        "id": "HzbrF4U2DHBN"
      },
      "execution_count": null,
      "outputs": []
    },
    {
      "cell_type": "code",
      "source": [
        "for epoch in range(10):\n",
        "  train(epoch)\n",
        "  test()"
      ],
      "metadata": {
        "colab": {
          "base_uri": "https://localhost:8080/"
        },
        "id": "00bmyf3UDbAX",
        "outputId": "d6eb48ce-93bb-4a20-fe05-81e24c2269be"
      },
      "execution_count": null,
      "outputs": [
        {
          "output_type": "stream",
          "name": "stdout",
          "text": [
            "Accuracy Rate: 91.34333333333333 %\n",
            "Accuracy Rate: 96.78166666666667 %\n",
            "Accuracy Rate: 97.09833333333333 %\n",
            "Accuracy Rate: 97.745 %\n",
            "Accuracy Rate: 97.88833333333334 %\n",
            "Accuracy Rate: 98.25166666666667 %\n",
            "Accuracy Rate: 98.40333333333334 %\n",
            "Accuracy Rate: 98.425 %\n",
            "Accuracy Rate: 97.53666666666666 %\n",
            "Accuracy Rate: 98.59666666666666 %\n"
          ]
        }
      ]
    },
    {
      "cell_type": "code",
      "source": [],
      "metadata": {
        "id": "Xf45djWFDhPJ"
      },
      "execution_count": null,
      "outputs": []
    }
  ]
}